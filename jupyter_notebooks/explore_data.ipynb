{
 "cells": [
  {
   "cell_type": "markdown",
   "metadata": {
    "collapsed": true,
    "pycharm": {
     "name": "#%% md\n"
    }
   },
   "source": [
    "# Explanatory Data Analysis\n",
    "\n",
    "- data and its quality -> data from paper Business news and business cycles\n",
    "- selected as nice availalble text data\n",
    "\n",
    "MSCI column := monthly excess return\n",
    "text data := weights [0,1] quantifying the attention to the topic\n"
   ]
  },
  {
   "cell_type": "code",
   "execution_count": null,
   "metadata": {
    "collapsed": false,
    "pycharm": {
     "name": "#%%\n"
    }
   },
   "outputs": [],
   "source": [
    "import matplotlib.dates as mdates\n",
    "import matplotlib.pyplot as plt\n",
    "import pandas as pd\n",
    "import plotting_functions\n",
    "import seaborn as sns\n",
    "from scipy.stats import norm"
   ]
  },
  {
   "cell_type": "code",
   "execution_count": null,
   "metadata": {
    "collapsed": false,
    "pycharm": {
     "name": "#%%\n"
    }
   },
   "outputs": [],
   "source": [
    "# colors to use\n",
    "colors = [\"#1f77b4\", \"#ff7f0e\", \"#7f7f7f\"]\n",
    "\n",
    "# set the plotting theme\n",
    "sns.set_theme(palette=colors)"
   ]
  },
  {
   "cell_type": "code",
   "execution_count": null,
   "metadata": {
    "collapsed": false,
    "pycharm": {
     "name": "#%%\n"
    }
   },
   "outputs": [],
   "source": [
    "# forecast or explain setting, True, False, \"forecast_news\", innovation\n",
    "forecast = True\n",
    "\n",
    "# get the dataframe\n",
    "df = pd.read_csv(\n",
    "    f\"/Users/simonleiner/PycharmProjects/bachelorarbeit/csv_files/combined_data_forecast_{forecast}.csv\",\n",
    "    header=0,\n",
    ")\n",
    "\n",
    "# adjust the date column\n",
    "df[\"date\"] = pd.to_datetime(df[\"date\"], errors=\"raise\")\n",
    "\n",
    "# set the date column as the index\n",
    "df = df.set_index(\"date\")\n",
    "\n",
    "display(df.info())"
   ]
  },
  {
   "cell_type": "code",
   "execution_count": null,
   "metadata": {
    "collapsed": false,
    "pycharm": {
     "name": "#%%\n"
    }
   },
   "outputs": [],
   "source": [
    "# time period\n",
    "print(\"Time period : 1984-01-01 to 2017-06-01\")  # noqa: T201\n",
    "\n",
    "# frequency\n",
    "print(\"Frequency : Monthly\")  # noqa: T201\n",
    "\n",
    "# number of observations\n",
    "print(\"Number of observations : 402\")  # noqa: T201\n"
   ]
  },
  {
   "cell_type": "code",
   "execution_count": null,
   "metadata": {
    "collapsed": false,
    "pycharm": {
     "name": "#%%\n"
    }
   },
   "outputs": [],
   "source": [
    "# the data is high dimensional and thus select some columns to display:\n",
    "# cols selected by Lasso regression in paper business news and business cylcles\n",
    "\n",
    "collist = [\n",
    "    \"Recession\",\n",
    "    \"Problems\",\n",
    "    \"Convertible/preferred\",\n",
    "    \"Record high\",\n",
    "    \"Options/VIX\",\n",
    "]\n",
    "\n",
    "# some statistics and properties\n",
    "print(df[collist].describe())  # noqa: T201\n",
    "print(\"-\" * 10)  # noqa: T201\n"
   ]
  },
  {
   "cell_type": "code",
   "execution_count": null,
   "metadata": {
    "collapsed": false,
    "pycharm": {
     "name": "#%%\n"
    }
   },
   "outputs": [],
   "source": [
    "# topics with most news attention by the mean\n",
    "print(\"Topics with most attention throughout time:\")  # noqa: T201\n",
    "print(df.mean().sort_values(ascending=False)[0:10] * 100)  # noqa: T201\n",
    "print(\"-\" * 10)  # noqa: T201"
   ]
  },
  {
   "cell_type": "code",
   "execution_count": null,
   "metadata": {
    "collapsed": false,
    "pycharm": {
     "name": "#%%\n"
    }
   },
   "outputs": [],
   "source": [
    "# some statistics and properties\n",
    "print(df[\"exc_return\"].describe())  # noqa: T201\n",
    "print(\"-\" * 10)  # noqa: T201"
   ]
  },
  {
   "cell_type": "code",
   "execution_count": null,
   "metadata": {
    "collapsed": false,
    "pycharm": {
     "name": "#%%\n"
    }
   },
   "outputs": [],
   "source": [
    "# plotting the Sp500 INDEX\n",
    "sns.lineplot(data=df[\"exc_return\"])\n",
    "date_format = mdates.DateFormatter(\"%Y\")\n",
    "plt.gca().xaxis.set_major_formatter(date_format)\n",
    "plt.ylabel(\"S&P500 excess returns\")\n",
    "plt.show()"
   ]
  },
  {
   "cell_type": "code",
   "execution_count": null,
   "metadata": {
    "collapsed": false,
    "pycharm": {
     "name": "#%%\n"
    }
   },
   "outputs": [],
   "source": [
    "# plotting the Sp500 INDEX\n",
    "sns.lineplot(data=df[\"exc_return\"])\n",
    "sns.lineplot(data=df[\"Recession\"])\n",
    "date_format = mdates.DateFormatter(\"%Y\")\n",
    "plt.gca().xaxis.set_major_formatter(date_format)\n",
    "plt.ylabel(\"S&P500 excess returns\")\n",
    "plt.show()\n",
    "\n",
    "print(df[\"exc_return\"].corr(df[\"Recession\"]))  # noqa: T201"
   ]
  },
  {
   "cell_type": "code",
   "execution_count": null,
   "metadata": {
    "collapsed": false,
    "pycharm": {
     "name": "#%%\n"
    }
   },
   "outputs": [],
   "source": [
    "# plotting the MSCI INDEX\n",
    "sns.distplot(df[\"exc_return\"], fit=norm)\n",
    "plt.ylabel(\"S&P500 excess returns\")\n",
    "plt.show()"
   ]
  },
  {
   "cell_type": "code",
   "execution_count": null,
   "metadata": {
    "collapsed": false,
    "pycharm": {
     "name": "#%%\n"
    }
   },
   "outputs": [],
   "source": [
    "# plot the correlation heatmap\n",
    "plotting_functions.corrheatmap(df, \"exc_return\", 10)"
   ]
  }
 ],
 "metadata": {
  "kernelspec": {
   "display_name": "Python 3",
   "language": "python",
   "name": "python3"
  },
  "language_info": {
   "codemirror_mode": {
    "name": "ipython",
    "version": 2
   },
   "file_extension": ".py",
   "mimetype": "text/x-python",
   "name": "python",
   "nbconvert_exporter": "python",
   "pygments_lexer": "ipython2",
   "version": "2.7.6"
  }
 },
 "nbformat": 4,
 "nbformat_minor": 0
}
