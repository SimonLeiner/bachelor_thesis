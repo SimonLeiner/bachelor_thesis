{
 "cells": [
  {
   "cell_type": "markdown",
   "metadata": {
    "collapsed": false
   },
   "source": [
    "# Combine the differnet data sources\n",
    "\n",
    "1. Data X from business news and business cycles\n",
    "2. Data Y from the MSCI Website\n",
    "3. risk-free rate to compute the excess returns\n"
   ]
  },
  {
   "cell_type": "code",
   "execution_count": null,
   "metadata": {
    "collapsed": true
   },
   "outputs": [],
   "source": [
    "import calculate_returns\n",
    "import matplotlib.pyplot as plt\n",
    "import pandas as pd\n",
    "import seaborn as sns"
   ]
  },
  {
   "cell_type": "code",
   "execution_count": null,
   "metadata": {
    "collapsed": false,
    "pycharm": {
     "name": "#%%\n"
    }
   },
   "outputs": [],
   "source": [
    "# get the text data\n",
    "df_text = pd.read_csv(\n",
    "    \"/Users/simonleiner/PycharmProjects/bachelorarbeit/csv_files/Monthly_Topic_Attention_Theta.csv\",\n",
    "    header=0,\n",
    "    sep=\",\",\n",
    "    thousands=None,\n",
    ")\n",
    "\n",
    "# adjust the date column\n",
    "df_text[\"date\"] = pd.to_datetime(df_text[\"date\"], errors=\"raise\")\n",
    "\n",
    "# set the date column as the index\n",
    "df_text = df_text.set_index(\"date\")\n",
    "\n",
    "# Note: 1984 at the top, ascending\n",
    "display(df_text)"
   ]
  },
  {
   "cell_type": "code",
   "execution_count": null,
   "metadata": {
    "collapsed": false,
    "pycharm": {
     "name": "#%%\n"
    }
   },
   "outputs": [],
   "source": [
    "# get the sp500 data\n",
    "df_sp500 = pd.read_csv(\n",
    "    \"/Users/simonleiner/PycharmProjects/bachelorarbeit/csv_files/MULTPL-SP500_REAL_PRICE_MONTH.csv\",\n",
    "    header=0,\n",
    "    sep=\",\",\n",
    "    thousands=None,\n",
    ")\n",
    "\n",
    "# adjust the date column\n",
    "df_sp500[\"Date\"] = pd.to_datetime(df_sp500[\"Date\"], errors=\"raise\")\n",
    "\n",
    "# set the date column as the index\n",
    "df_sp500 = df_sp500.set_index(\"Date\")\n",
    "\n",
    "# data is in reverse !! 2017 at the top so sort!!!\n",
    "df_sp500 = df_sp500.sort_index(ascending=True)\n",
    "\n",
    "# Note 403 datapoints, we will loose the first datapoint when calculating the reuturns\n",
    "\n",
    "# plotting\n",
    "sns.lineplot(data=df_sp500[\"Value\"])\n",
    "plt.show()"
   ]
  },
  {
   "cell_type": "code",
   "execution_count": null,
   "metadata": {
    "collapsed": false,
    "pycharm": {
     "name": "#%%\n"
    }
   },
   "outputs": [],
   "source": [
    "# calculate the returns: loose first datapoint\n",
    "df_sp500 = calculate_returns.calculate_log_returns(df_sp500, \"Value\")\n",
    "\n",
    "# plotting\n",
    "sns.lineplot(data=df_sp500[\"return\"])\n",
    "plt.show()\n",
    "\n",
    "# save the returns"
   ]
  },
  {
   "cell_type": "code",
   "execution_count": null,
   "metadata": {
    "collapsed": false,
    "pycharm": {
     "name": "#%%\n"
    }
   },
   "outputs": [],
   "source": [
    "# get the 3 month us treasury bill rate in %\n",
    "df_rate = pd.read_csv(\n",
    "    \"/Users/simonleiner/PycharmProjects/bachelorarbeit/csv_files/F-F_Research_Data_Factors.CSV\",\n",
    "    header=0,\n",
    "    sep=\",\",\n",
    "    thousands=None,\n",
    ")\n",
    "\n",
    "# only get the relevant data\n",
    "df_rate = df_rate.drop([\"date\", \"Mkt-RF\", \"SMB\", \"HML\"], axis=1)\n",
    "\n",
    "# set the index accordingly\n",
    "df_rate = df_rate.set_index(df_sp500.index)\n",
    "\n",
    "# can't be in decimlas, because we would by 0.5 have a risk free rate of 50%\n",
    "# https://fred.stlouisfed.org/series/DGS1MO -> must divide by 100\n",
    "df_rate = df_rate / 100\n",
    "\n",
    "# plotting\n",
    "sns.lineplot(data=df_rate[\"RF\"])\n",
    "plt.show()\n",
    "\n",
    "# save the risk free rate"
   ]
  },
  {
   "cell_type": "code",
   "execution_count": null,
   "metadata": {
    "collapsed": false,
    "pycharm": {
     "name": "#%%\n"
    }
   },
   "outputs": [],
   "source": [
    "# calculate the excess returns\n",
    "df_sp500[\"exc_return\"] = df_sp500[\"return\"] - df_rate[\"RF\"]"
   ]
  },
  {
   "cell_type": "code",
   "execution_count": null,
   "metadata": {
    "collapsed": false,
    "pycharm": {
     "name": "#%%\n"
    }
   },
   "outputs": [],
   "source": [
    "# we want to forecast the next month with the data availalb eto this point in time !!!\n",
    "\n",
    "# changed in the csv files : 1-3, 5 -7, 6 - 8\n",
    "\n",
    "# set the index accordingly: we take the index of teh asset prices!!\n",
    "df_text = df_text.set_index(df_sp500.index)"
   ]
  },
  {
   "cell_type": "code",
   "execution_count": null,
   "metadata": {
    "collapsed": false,
    "pycharm": {
     "name": "#%%\n"
    }
   },
   "outputs": [],
   "source": [
    "# combine the 2 dataframes: Take the datetime index from the text data\n",
    "df_combined = pd.concat([df_text, df_sp500], axis=1)\n",
    "\n",
    "# delete added columns\n",
    "df_combined = df_combined.drop([\"Value\", \"return\"], axis=1)\n",
    "\n",
    "\n",
    "# plotting\n",
    "sns.lineplot(data=df_combined[\"exc_return\"])\n",
    "plt.show()"
   ]
  }
 ],
 "metadata": {
  "kernelspec": {
   "display_name": "Python 3",
   "language": "python",
   "name": "python3"
  },
  "language_info": {
   "codemirror_mode": {
    "name": "ipython",
    "version": 2
   },
   "file_extension": ".py",
   "mimetype": "text/x-python",
   "name": "python",
   "nbconvert_exporter": "python",
   "pygments_lexer": "ipython2",
   "version": "2.7.6"
  }
 },
 "nbformat": 4,
 "nbformat_minor": 0
}
